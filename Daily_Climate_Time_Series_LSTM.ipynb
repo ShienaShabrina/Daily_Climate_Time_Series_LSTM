{
  "nbformat": 4,
  "nbformat_minor": 0,
  "metadata": {
    "colab": {
      "provenance": []
    },
    "kernelspec": {
      "name": "python3",
      "display_name": "Python 3"
    },
    "language_info": {
      "name": "python"
    },
    "accelerator": "GPU",
    "gpuClass": "standard"
  },
  "cells": [
    {
      "cell_type": "code",
      "execution_count": 1,
      "metadata": {
        "colab": {
          "base_uri": "https://localhost:8080/",
          "height": 90
        },
        "id": "iTAG-InEZDxP",
        "outputId": "711d126b-9620-4830-faa1-144936233b90"
      },
      "outputs": [
        {
          "output_type": "display_data",
          "data": {
            "text/plain": [
              "<IPython.core.display.HTML object>"
            ],
            "text/html": [
              "\n",
              "     <input type=\"file\" id=\"files-03426ca8-f278-4705-a736-782f9548a8d8\" name=\"files[]\" multiple disabled\n",
              "        style=\"border:none\" />\n",
              "     <output id=\"result-03426ca8-f278-4705-a736-782f9548a8d8\">\n",
              "      Upload widget is only available when the cell has been executed in the\n",
              "      current browser session. Please rerun this cell to enable.\n",
              "      </output>\n",
              "      <script>// Copyright 2017 Google LLC\n",
              "//\n",
              "// Licensed under the Apache License, Version 2.0 (the \"License\");\n",
              "// you may not use this file except in compliance with the License.\n",
              "// You may obtain a copy of the License at\n",
              "//\n",
              "//      http://www.apache.org/licenses/LICENSE-2.0\n",
              "//\n",
              "// Unless required by applicable law or agreed to in writing, software\n",
              "// distributed under the License is distributed on an \"AS IS\" BASIS,\n",
              "// WITHOUT WARRANTIES OR CONDITIONS OF ANY KIND, either express or implied.\n",
              "// See the License for the specific language governing permissions and\n",
              "// limitations under the License.\n",
              "\n",
              "/**\n",
              " * @fileoverview Helpers for google.colab Python module.\n",
              " */\n",
              "(function(scope) {\n",
              "function span(text, styleAttributes = {}) {\n",
              "  const element = document.createElement('span');\n",
              "  element.textContent = text;\n",
              "  for (const key of Object.keys(styleAttributes)) {\n",
              "    element.style[key] = styleAttributes[key];\n",
              "  }\n",
              "  return element;\n",
              "}\n",
              "\n",
              "// Max number of bytes which will be uploaded at a time.\n",
              "const MAX_PAYLOAD_SIZE = 100 * 1024;\n",
              "\n",
              "function _uploadFiles(inputId, outputId) {\n",
              "  const steps = uploadFilesStep(inputId, outputId);\n",
              "  const outputElement = document.getElementById(outputId);\n",
              "  // Cache steps on the outputElement to make it available for the next call\n",
              "  // to uploadFilesContinue from Python.\n",
              "  outputElement.steps = steps;\n",
              "\n",
              "  return _uploadFilesContinue(outputId);\n",
              "}\n",
              "\n",
              "// This is roughly an async generator (not supported in the browser yet),\n",
              "// where there are multiple asynchronous steps and the Python side is going\n",
              "// to poll for completion of each step.\n",
              "// This uses a Promise to block the python side on completion of each step,\n",
              "// then passes the result of the previous step as the input to the next step.\n",
              "function _uploadFilesContinue(outputId) {\n",
              "  const outputElement = document.getElementById(outputId);\n",
              "  const steps = outputElement.steps;\n",
              "\n",
              "  const next = steps.next(outputElement.lastPromiseValue);\n",
              "  return Promise.resolve(next.value.promise).then((value) => {\n",
              "    // Cache the last promise value to make it available to the next\n",
              "    // step of the generator.\n",
              "    outputElement.lastPromiseValue = value;\n",
              "    return next.value.response;\n",
              "  });\n",
              "}\n",
              "\n",
              "/**\n",
              " * Generator function which is called between each async step of the upload\n",
              " * process.\n",
              " * @param {string} inputId Element ID of the input file picker element.\n",
              " * @param {string} outputId Element ID of the output display.\n",
              " * @return {!Iterable<!Object>} Iterable of next steps.\n",
              " */\n",
              "function* uploadFilesStep(inputId, outputId) {\n",
              "  const inputElement = document.getElementById(inputId);\n",
              "  inputElement.disabled = false;\n",
              "\n",
              "  const outputElement = document.getElementById(outputId);\n",
              "  outputElement.innerHTML = '';\n",
              "\n",
              "  const pickedPromise = new Promise((resolve) => {\n",
              "    inputElement.addEventListener('change', (e) => {\n",
              "      resolve(e.target.files);\n",
              "    });\n",
              "  });\n",
              "\n",
              "  const cancel = document.createElement('button');\n",
              "  inputElement.parentElement.appendChild(cancel);\n",
              "  cancel.textContent = 'Cancel upload';\n",
              "  const cancelPromise = new Promise((resolve) => {\n",
              "    cancel.onclick = () => {\n",
              "      resolve(null);\n",
              "    };\n",
              "  });\n",
              "\n",
              "  // Wait for the user to pick the files.\n",
              "  const files = yield {\n",
              "    promise: Promise.race([pickedPromise, cancelPromise]),\n",
              "    response: {\n",
              "      action: 'starting',\n",
              "    }\n",
              "  };\n",
              "\n",
              "  cancel.remove();\n",
              "\n",
              "  // Disable the input element since further picks are not allowed.\n",
              "  inputElement.disabled = true;\n",
              "\n",
              "  if (!files) {\n",
              "    return {\n",
              "      response: {\n",
              "        action: 'complete',\n",
              "      }\n",
              "    };\n",
              "  }\n",
              "\n",
              "  for (const file of files) {\n",
              "    const li = document.createElement('li');\n",
              "    li.append(span(file.name, {fontWeight: 'bold'}));\n",
              "    li.append(span(\n",
              "        `(${file.type || 'n/a'}) - ${file.size} bytes, ` +\n",
              "        `last modified: ${\n",
              "            file.lastModifiedDate ? file.lastModifiedDate.toLocaleDateString() :\n",
              "                                    'n/a'} - `));\n",
              "    const percent = span('0% done');\n",
              "    li.appendChild(percent);\n",
              "\n",
              "    outputElement.appendChild(li);\n",
              "\n",
              "    const fileDataPromise = new Promise((resolve) => {\n",
              "      const reader = new FileReader();\n",
              "      reader.onload = (e) => {\n",
              "        resolve(e.target.result);\n",
              "      };\n",
              "      reader.readAsArrayBuffer(file);\n",
              "    });\n",
              "    // Wait for the data to be ready.\n",
              "    let fileData = yield {\n",
              "      promise: fileDataPromise,\n",
              "      response: {\n",
              "        action: 'continue',\n",
              "      }\n",
              "    };\n",
              "\n",
              "    // Use a chunked sending to avoid message size limits. See b/62115660.\n",
              "    let position = 0;\n",
              "    do {\n",
              "      const length = Math.min(fileData.byteLength - position, MAX_PAYLOAD_SIZE);\n",
              "      const chunk = new Uint8Array(fileData, position, length);\n",
              "      position += length;\n",
              "\n",
              "      const base64 = btoa(String.fromCharCode.apply(null, chunk));\n",
              "      yield {\n",
              "        response: {\n",
              "          action: 'append',\n",
              "          file: file.name,\n",
              "          data: base64,\n",
              "        },\n",
              "      };\n",
              "\n",
              "      let percentDone = fileData.byteLength === 0 ?\n",
              "          100 :\n",
              "          Math.round((position / fileData.byteLength) * 100);\n",
              "      percent.textContent = `${percentDone}% done`;\n",
              "\n",
              "    } while (position < fileData.byteLength);\n",
              "  }\n",
              "\n",
              "  // All done.\n",
              "  yield {\n",
              "    response: {\n",
              "      action: 'complete',\n",
              "    }\n",
              "  };\n",
              "}\n",
              "\n",
              "scope.google = scope.google || {};\n",
              "scope.google.colab = scope.google.colab || {};\n",
              "scope.google.colab._files = {\n",
              "  _uploadFiles,\n",
              "  _uploadFilesContinue,\n",
              "};\n",
              "})(self);\n",
              "</script> "
            ]
          },
          "metadata": {}
        },
        {
          "output_type": "stream",
          "name": "stdout",
          "text": [
            "Saving kaggle.json to kaggle.json\n",
            "User uploaded file \"kaggle.json\" with length 70 bytes\n"
          ]
        }
      ],
      "source": [
        "from google.colab import files\n",
        "\n",
        "uploaded = files.upload()\n",
        "\n",
        "for fn in uploaded.keys():\n",
        "  print('User uploaded file \"{name}\" with length {length} bytes'.format(\n",
        "      name=fn, length=len(uploaded[fn])))\n",
        "  \n",
        "# Then move kaggle.json into the folder where the API expects to find it.\n",
        "!mkdir -p ~/.kaggle/ && mv kaggle.json ~/.kaggle/ && chmod 600 ~/.kaggle/kaggle.json"
      ]
    },
    {
      "cell_type": "code",
      "source": [
        "!kaggle datasets download -d sumanthvrao/daily-climate-time-series-data"
      ],
      "metadata": {
        "colab": {
          "base_uri": "https://localhost:8080/"
        },
        "id": "NUhmMkFVZZDJ",
        "outputId": "d69413d4-af2b-40b8-8ebd-988c60f71766"
      },
      "execution_count": 2,
      "outputs": [
        {
          "output_type": "stream",
          "name": "stdout",
          "text": [
            "Downloading daily-climate-time-series-data.zip to /content\n",
            "\r  0% 0.00/22.0k [00:00<?, ?B/s]\n",
            "\r100% 22.0k/22.0k [00:00<00:00, 2.12MB/s]\n"
          ]
        }
      ]
    },
    {
      "cell_type": "code",
      "source": [
        "!unzip daily-climate-time-series-data.zip"
      ],
      "metadata": {
        "colab": {
          "base_uri": "https://localhost:8080/"
        },
        "id": "Dl9Cst6VZwMW",
        "outputId": "73c4d8be-c053-4a98-c95d-f6cb09889838"
      },
      "execution_count": 3,
      "outputs": [
        {
          "output_type": "stream",
          "name": "stdout",
          "text": [
            "Archive:  daily-climate-time-series-data.zip\n",
            "  inflating: DailyDelhiClimateTest.csv  \n",
            "  inflating: DailyDelhiClimateTrain.csv  \n"
          ]
        }
      ]
    },
    {
      "cell_type": "markdown",
      "source": [
        "# Import Library"
      ],
      "metadata": {
        "id": "rrdnyRMkbDmU"
      }
    },
    {
      "cell_type": "code",
      "source": [
        "import numpy as np\n",
        "import pandas as pd \n",
        "import tensorflow as tf\n",
        "from dateutil.parser import parse\n",
        "dateparse=lambda dates:parse(dates)\n",
        "import matplotlib.pyplot as plt\n",
        "import tensorflow as tf\n",
        "from tensorflow.keras.layers import LSTM,Dense,Bidirectional,Dropout\n",
        "from sklearn.preprocessing import StandardScaler\n",
        "from sklearn.model_selection import train_test_split"
      ],
      "metadata": {
        "id": "X1rdPFfOZ4BS"
      },
      "execution_count": 4,
      "outputs": []
    },
    {
      "cell_type": "markdown",
      "source": [
        "# Load Data Test and Train"
      ],
      "metadata": {
        "id": "Gbyfc2kUbP6S"
      }
    },
    {
      "cell_type": "code",
      "source": [
        "clim_test = pd.read_csv('/content/DailyDelhiClimateTest.csv',\n",
        "                         parse_dates=['date'],date_parser=dateparse)\n",
        "clim_test.head()"
      ],
      "metadata": {
        "colab": {
          "base_uri": "https://localhost:8080/",
          "height": 206
        },
        "id": "x6md9ik6bUUp",
        "outputId": "ab36975f-8f3c-4a28-f6b3-e24ec5709042"
      },
      "execution_count": 5,
      "outputs": [
        {
          "output_type": "execute_result",
          "data": {
            "text/plain": [
              "        date   meantemp   humidity  wind_speed  meanpressure\n",
              "0 2017-01-01  15.913043  85.869565    2.743478     59.000000\n",
              "1 2017-01-02  18.500000  77.222222    2.894444   1018.277778\n",
              "2 2017-01-03  17.111111  81.888889    4.016667   1018.333333\n",
              "3 2017-01-04  18.700000  70.050000    4.545000   1015.700000\n",
              "4 2017-01-05  18.388889  74.944444    3.300000   1014.333333"
            ],
            "text/html": [
              "\n",
              "  <div id=\"df-2068f943-6e50-4244-b286-0743802ee012\">\n",
              "    <div class=\"colab-df-container\">\n",
              "      <div>\n",
              "<style scoped>\n",
              "    .dataframe tbody tr th:only-of-type {\n",
              "        vertical-align: middle;\n",
              "    }\n",
              "\n",
              "    .dataframe tbody tr th {\n",
              "        vertical-align: top;\n",
              "    }\n",
              "\n",
              "    .dataframe thead th {\n",
              "        text-align: right;\n",
              "    }\n",
              "</style>\n",
              "<table border=\"1\" class=\"dataframe\">\n",
              "  <thead>\n",
              "    <tr style=\"text-align: right;\">\n",
              "      <th></th>\n",
              "      <th>date</th>\n",
              "      <th>meantemp</th>\n",
              "      <th>humidity</th>\n",
              "      <th>wind_speed</th>\n",
              "      <th>meanpressure</th>\n",
              "    </tr>\n",
              "  </thead>\n",
              "  <tbody>\n",
              "    <tr>\n",
              "      <th>0</th>\n",
              "      <td>2017-01-01</td>\n",
              "      <td>15.913043</td>\n",
              "      <td>85.869565</td>\n",
              "      <td>2.743478</td>\n",
              "      <td>59.000000</td>\n",
              "    </tr>\n",
              "    <tr>\n",
              "      <th>1</th>\n",
              "      <td>2017-01-02</td>\n",
              "      <td>18.500000</td>\n",
              "      <td>77.222222</td>\n",
              "      <td>2.894444</td>\n",
              "      <td>1018.277778</td>\n",
              "    </tr>\n",
              "    <tr>\n",
              "      <th>2</th>\n",
              "      <td>2017-01-03</td>\n",
              "      <td>17.111111</td>\n",
              "      <td>81.888889</td>\n",
              "      <td>4.016667</td>\n",
              "      <td>1018.333333</td>\n",
              "    </tr>\n",
              "    <tr>\n",
              "      <th>3</th>\n",
              "      <td>2017-01-04</td>\n",
              "      <td>18.700000</td>\n",
              "      <td>70.050000</td>\n",
              "      <td>4.545000</td>\n",
              "      <td>1015.700000</td>\n",
              "    </tr>\n",
              "    <tr>\n",
              "      <th>4</th>\n",
              "      <td>2017-01-05</td>\n",
              "      <td>18.388889</td>\n",
              "      <td>74.944444</td>\n",
              "      <td>3.300000</td>\n",
              "      <td>1014.333333</td>\n",
              "    </tr>\n",
              "  </tbody>\n",
              "</table>\n",
              "</div>\n",
              "      <button class=\"colab-df-convert\" onclick=\"convertToInteractive('df-2068f943-6e50-4244-b286-0743802ee012')\"\n",
              "              title=\"Convert this dataframe to an interactive table.\"\n",
              "              style=\"display:none;\">\n",
              "        \n",
              "  <svg xmlns=\"http://www.w3.org/2000/svg\" height=\"24px\"viewBox=\"0 0 24 24\"\n",
              "       width=\"24px\">\n",
              "    <path d=\"M0 0h24v24H0V0z\" fill=\"none\"/>\n",
              "    <path d=\"M18.56 5.44l.94 2.06.94-2.06 2.06-.94-2.06-.94-.94-2.06-.94 2.06-2.06.94zm-11 1L8.5 8.5l.94-2.06 2.06-.94-2.06-.94L8.5 2.5l-.94 2.06-2.06.94zm10 10l.94 2.06.94-2.06 2.06-.94-2.06-.94-.94-2.06-.94 2.06-2.06.94z\"/><path d=\"M17.41 7.96l-1.37-1.37c-.4-.4-.92-.59-1.43-.59-.52 0-1.04.2-1.43.59L10.3 9.45l-7.72 7.72c-.78.78-.78 2.05 0 2.83L4 21.41c.39.39.9.59 1.41.59.51 0 1.02-.2 1.41-.59l7.78-7.78 2.81-2.81c.8-.78.8-2.07 0-2.86zM5.41 20L4 18.59l7.72-7.72 1.47 1.35L5.41 20z\"/>\n",
              "  </svg>\n",
              "      </button>\n",
              "      \n",
              "  <style>\n",
              "    .colab-df-container {\n",
              "      display:flex;\n",
              "      flex-wrap:wrap;\n",
              "      gap: 12px;\n",
              "    }\n",
              "\n",
              "    .colab-df-convert {\n",
              "      background-color: #E8F0FE;\n",
              "      border: none;\n",
              "      border-radius: 50%;\n",
              "      cursor: pointer;\n",
              "      display: none;\n",
              "      fill: #1967D2;\n",
              "      height: 32px;\n",
              "      padding: 0 0 0 0;\n",
              "      width: 32px;\n",
              "    }\n",
              "\n",
              "    .colab-df-convert:hover {\n",
              "      background-color: #E2EBFA;\n",
              "      box-shadow: 0px 1px 2px rgba(60, 64, 67, 0.3), 0px 1px 3px 1px rgba(60, 64, 67, 0.15);\n",
              "      fill: #174EA6;\n",
              "    }\n",
              "\n",
              "    [theme=dark] .colab-df-convert {\n",
              "      background-color: #3B4455;\n",
              "      fill: #D2E3FC;\n",
              "    }\n",
              "\n",
              "    [theme=dark] .colab-df-convert:hover {\n",
              "      background-color: #434B5C;\n",
              "      box-shadow: 0px 1px 3px 1px rgba(0, 0, 0, 0.15);\n",
              "      filter: drop-shadow(0px 1px 2px rgba(0, 0, 0, 0.3));\n",
              "      fill: #FFFFFF;\n",
              "    }\n",
              "  </style>\n",
              "\n",
              "      <script>\n",
              "        const buttonEl =\n",
              "          document.querySelector('#df-2068f943-6e50-4244-b286-0743802ee012 button.colab-df-convert');\n",
              "        buttonEl.style.display =\n",
              "          google.colab.kernel.accessAllowed ? 'block' : 'none';\n",
              "\n",
              "        async function convertToInteractive(key) {\n",
              "          const element = document.querySelector('#df-2068f943-6e50-4244-b286-0743802ee012');\n",
              "          const dataTable =\n",
              "            await google.colab.kernel.invokeFunction('convertToInteractive',\n",
              "                                                     [key], {});\n",
              "          if (!dataTable) return;\n",
              "\n",
              "          const docLinkHtml = 'Like what you see? Visit the ' +\n",
              "            '<a target=\"_blank\" href=https://colab.research.google.com/notebooks/data_table.ipynb>data table notebook</a>'\n",
              "            + ' to learn more about interactive tables.';\n",
              "          element.innerHTML = '';\n",
              "          dataTable['output_type'] = 'display_data';\n",
              "          await google.colab.output.renderOutput(dataTable, element);\n",
              "          const docLink = document.createElement('div');\n",
              "          docLink.innerHTML = docLinkHtml;\n",
              "          element.appendChild(docLink);\n",
              "        }\n",
              "      </script>\n",
              "    </div>\n",
              "  </div>\n",
              "  "
            ]
          },
          "metadata": {},
          "execution_count": 5
        }
      ]
    },
    {
      "cell_type": "code",
      "source": [
        "clim_train = pd.read_csv('/content/DailyDelhiClimateTrain.csv',\n",
        "                         parse_dates=['date'],date_parser=dateparse)\n",
        "clim_train.head()"
      ],
      "metadata": {
        "colab": {
          "base_uri": "https://localhost:8080/",
          "height": 206
        },
        "id": "ADPBGikEbg--",
        "outputId": "624c9ac7-3fa4-4131-b083-310bdcfc5a73"
      },
      "execution_count": 6,
      "outputs": [
        {
          "output_type": "execute_result",
          "data": {
            "text/plain": [
              "        date   meantemp   humidity  wind_speed  meanpressure\n",
              "0 2013-01-01  10.000000  84.500000    0.000000   1015.666667\n",
              "1 2013-01-02   7.400000  92.000000    2.980000   1017.800000\n",
              "2 2013-01-03   7.166667  87.000000    4.633333   1018.666667\n",
              "3 2013-01-04   8.666667  71.333333    1.233333   1017.166667\n",
              "4 2013-01-05   6.000000  86.833333    3.700000   1016.500000"
            ],
            "text/html": [
              "\n",
              "  <div id=\"df-27d41b6d-04c8-4662-b930-7a095ac0c353\">\n",
              "    <div class=\"colab-df-container\">\n",
              "      <div>\n",
              "<style scoped>\n",
              "    .dataframe tbody tr th:only-of-type {\n",
              "        vertical-align: middle;\n",
              "    }\n",
              "\n",
              "    .dataframe tbody tr th {\n",
              "        vertical-align: top;\n",
              "    }\n",
              "\n",
              "    .dataframe thead th {\n",
              "        text-align: right;\n",
              "    }\n",
              "</style>\n",
              "<table border=\"1\" class=\"dataframe\">\n",
              "  <thead>\n",
              "    <tr style=\"text-align: right;\">\n",
              "      <th></th>\n",
              "      <th>date</th>\n",
              "      <th>meantemp</th>\n",
              "      <th>humidity</th>\n",
              "      <th>wind_speed</th>\n",
              "      <th>meanpressure</th>\n",
              "    </tr>\n",
              "  </thead>\n",
              "  <tbody>\n",
              "    <tr>\n",
              "      <th>0</th>\n",
              "      <td>2013-01-01</td>\n",
              "      <td>10.000000</td>\n",
              "      <td>84.500000</td>\n",
              "      <td>0.000000</td>\n",
              "      <td>1015.666667</td>\n",
              "    </tr>\n",
              "    <tr>\n",
              "      <th>1</th>\n",
              "      <td>2013-01-02</td>\n",
              "      <td>7.400000</td>\n",
              "      <td>92.000000</td>\n",
              "      <td>2.980000</td>\n",
              "      <td>1017.800000</td>\n",
              "    </tr>\n",
              "    <tr>\n",
              "      <th>2</th>\n",
              "      <td>2013-01-03</td>\n",
              "      <td>7.166667</td>\n",
              "      <td>87.000000</td>\n",
              "      <td>4.633333</td>\n",
              "      <td>1018.666667</td>\n",
              "    </tr>\n",
              "    <tr>\n",
              "      <th>3</th>\n",
              "      <td>2013-01-04</td>\n",
              "      <td>8.666667</td>\n",
              "      <td>71.333333</td>\n",
              "      <td>1.233333</td>\n",
              "      <td>1017.166667</td>\n",
              "    </tr>\n",
              "    <tr>\n",
              "      <th>4</th>\n",
              "      <td>2013-01-05</td>\n",
              "      <td>6.000000</td>\n",
              "      <td>86.833333</td>\n",
              "      <td>3.700000</td>\n",
              "      <td>1016.500000</td>\n",
              "    </tr>\n",
              "  </tbody>\n",
              "</table>\n",
              "</div>\n",
              "      <button class=\"colab-df-convert\" onclick=\"convertToInteractive('df-27d41b6d-04c8-4662-b930-7a095ac0c353')\"\n",
              "              title=\"Convert this dataframe to an interactive table.\"\n",
              "              style=\"display:none;\">\n",
              "        \n",
              "  <svg xmlns=\"http://www.w3.org/2000/svg\" height=\"24px\"viewBox=\"0 0 24 24\"\n",
              "       width=\"24px\">\n",
              "    <path d=\"M0 0h24v24H0V0z\" fill=\"none\"/>\n",
              "    <path d=\"M18.56 5.44l.94 2.06.94-2.06 2.06-.94-2.06-.94-.94-2.06-.94 2.06-2.06.94zm-11 1L8.5 8.5l.94-2.06 2.06-.94-2.06-.94L8.5 2.5l-.94 2.06-2.06.94zm10 10l.94 2.06.94-2.06 2.06-.94-2.06-.94-.94-2.06-.94 2.06-2.06.94z\"/><path d=\"M17.41 7.96l-1.37-1.37c-.4-.4-.92-.59-1.43-.59-.52 0-1.04.2-1.43.59L10.3 9.45l-7.72 7.72c-.78.78-.78 2.05 0 2.83L4 21.41c.39.39.9.59 1.41.59.51 0 1.02-.2 1.41-.59l7.78-7.78 2.81-2.81c.8-.78.8-2.07 0-2.86zM5.41 20L4 18.59l7.72-7.72 1.47 1.35L5.41 20z\"/>\n",
              "  </svg>\n",
              "      </button>\n",
              "      \n",
              "  <style>\n",
              "    .colab-df-container {\n",
              "      display:flex;\n",
              "      flex-wrap:wrap;\n",
              "      gap: 12px;\n",
              "    }\n",
              "\n",
              "    .colab-df-convert {\n",
              "      background-color: #E8F0FE;\n",
              "      border: none;\n",
              "      border-radius: 50%;\n",
              "      cursor: pointer;\n",
              "      display: none;\n",
              "      fill: #1967D2;\n",
              "      height: 32px;\n",
              "      padding: 0 0 0 0;\n",
              "      width: 32px;\n",
              "    }\n",
              "\n",
              "    .colab-df-convert:hover {\n",
              "      background-color: #E2EBFA;\n",
              "      box-shadow: 0px 1px 2px rgba(60, 64, 67, 0.3), 0px 1px 3px 1px rgba(60, 64, 67, 0.15);\n",
              "      fill: #174EA6;\n",
              "    }\n",
              "\n",
              "    [theme=dark] .colab-df-convert {\n",
              "      background-color: #3B4455;\n",
              "      fill: #D2E3FC;\n",
              "    }\n",
              "\n",
              "    [theme=dark] .colab-df-convert:hover {\n",
              "      background-color: #434B5C;\n",
              "      box-shadow: 0px 1px 3px 1px rgba(0, 0, 0, 0.15);\n",
              "      filter: drop-shadow(0px 1px 2px rgba(0, 0, 0, 0.3));\n",
              "      fill: #FFFFFF;\n",
              "    }\n",
              "  </style>\n",
              "\n",
              "      <script>\n",
              "        const buttonEl =\n",
              "          document.querySelector('#df-27d41b6d-04c8-4662-b930-7a095ac0c353 button.colab-df-convert');\n",
              "        buttonEl.style.display =\n",
              "          google.colab.kernel.accessAllowed ? 'block' : 'none';\n",
              "\n",
              "        async function convertToInteractive(key) {\n",
              "          const element = document.querySelector('#df-27d41b6d-04c8-4662-b930-7a095ac0c353');\n",
              "          const dataTable =\n",
              "            await google.colab.kernel.invokeFunction('convertToInteractive',\n",
              "                                                     [key], {});\n",
              "          if (!dataTable) return;\n",
              "\n",
              "          const docLinkHtml = 'Like what you see? Visit the ' +\n",
              "            '<a target=\"_blank\" href=https://colab.research.google.com/notebooks/data_table.ipynb>data table notebook</a>'\n",
              "            + ' to learn more about interactive tables.';\n",
              "          element.innerHTML = '';\n",
              "          dataTable['output_type'] = 'display_data';\n",
              "          await google.colab.output.renderOutput(dataTable, element);\n",
              "          const docLink = document.createElement('div');\n",
              "          docLink.innerHTML = docLinkHtml;\n",
              "          element.appendChild(docLink);\n",
              "        }\n",
              "      </script>\n",
              "    </div>\n",
              "  </div>\n",
              "  "
            ]
          },
          "metadata": {},
          "execution_count": 6
        }
      ]
    },
    {
      "cell_type": "markdown",
      "source": [
        "# Check General Data Test and Train Info"
      ],
      "metadata": {
        "id": "Z8iWEeUUb7zz"
      }
    },
    {
      "cell_type": "code",
      "source": [
        "print(clim_train.info())\n",
        "print(clim_test.info())"
      ],
      "metadata": {
        "colab": {
          "base_uri": "https://localhost:8080/"
        },
        "id": "acyuYOXZb3RO",
        "outputId": "f5b736c1-3a42-4d71-bce9-f41dd8469d0b"
      },
      "execution_count": 7,
      "outputs": [
        {
          "output_type": "stream",
          "name": "stdout",
          "text": [
            "<class 'pandas.core.frame.DataFrame'>\n",
            "RangeIndex: 1462 entries, 0 to 1461\n",
            "Data columns (total 5 columns):\n",
            " #   Column        Non-Null Count  Dtype         \n",
            "---  ------        --------------  -----         \n",
            " 0   date          1462 non-null   datetime64[ns]\n",
            " 1   meantemp      1462 non-null   float64       \n",
            " 2   humidity      1462 non-null   float64       \n",
            " 3   wind_speed    1462 non-null   float64       \n",
            " 4   meanpressure  1462 non-null   float64       \n",
            "dtypes: datetime64[ns](1), float64(4)\n",
            "memory usage: 57.2 KB\n",
            "None\n",
            "<class 'pandas.core.frame.DataFrame'>\n",
            "RangeIndex: 114 entries, 0 to 113\n",
            "Data columns (total 5 columns):\n",
            " #   Column        Non-Null Count  Dtype         \n",
            "---  ------        --------------  -----         \n",
            " 0   date          114 non-null    datetime64[ns]\n",
            " 1   meantemp      114 non-null    float64       \n",
            " 2   humidity      114 non-null    float64       \n",
            " 3   wind_speed    114 non-null    float64       \n",
            " 4   meanpressure  114 non-null    float64       \n",
            "dtypes: datetime64[ns](1), float64(4)\n",
            "memory usage: 4.6 KB\n",
            "None\n"
          ]
        }
      ]
    },
    {
      "cell_type": "code",
      "source": [
        "# Check missing value\n",
        "print(clim_train.isnull().sum())\n",
        "print(clim_test.isnull().sum())"
      ],
      "metadata": {
        "colab": {
          "base_uri": "https://localhost:8080/"
        },
        "id": "bTdTCm50cRvk",
        "outputId": "2e08f69e-f28b-498b-f73f-170b404bc1a4"
      },
      "execution_count": 8,
      "outputs": [
        {
          "output_type": "stream",
          "name": "stdout",
          "text": [
            "date            0\n",
            "meantemp        0\n",
            "humidity        0\n",
            "wind_speed      0\n",
            "meanpressure    0\n",
            "dtype: int64\n",
            "date            0\n",
            "meantemp        0\n",
            "humidity        0\n",
            "wind_speed      0\n",
            "meanpressure    0\n",
            "dtype: int64\n"
          ]
        }
      ]
    },
    {
      "cell_type": "code",
      "source": [
        "# Check shape\n",
        "print(clim_train.shape)\n",
        "print(clim_test.shape)"
      ],
      "metadata": {
        "colab": {
          "base_uri": "https://localhost:8080/"
        },
        "id": "AdTsf1uXcj7N",
        "outputId": "8503df68-48b3-4b8c-d3cc-36d1000eca60"
      },
      "execution_count": 9,
      "outputs": [
        {
          "output_type": "stream",
          "name": "stdout",
          "text": [
            "(1462, 5)\n",
            "(114, 5)\n"
          ]
        }
      ]
    },
    {
      "cell_type": "code",
      "source": [
        "# plot daily climate \n",
        "date = clim_train['date'].values\n",
        "wind_speed  = clim_train['wind_speed'].values\n",
        " \n",
        " \n",
        "plt.figure(figsize=(14,4))\n",
        "plt.plot(date, wind_speed)\n",
        "plt.title('Temperature average',\n",
        "          fontsize=18);"
      ],
      "metadata": {
        "colab": {
          "base_uri": "https://localhost:8080/",
          "height": 285
        },
        "id": "8udJzjXmepqL",
        "outputId": "534f526d-1f71-4cfc-eb71-2ef501017930"
      },
      "execution_count": 10,
      "outputs": [
        {
          "output_type": "display_data",
          "data": {
            "text/plain": [
              "<Figure size 1008x288 with 1 Axes>"
            ],
            "image/png": "[encoded data removed]"
          },
          "metadata": {
            "needs_background": "light"
          }
        }
      ]
    },
    {
      "cell_type": "markdown",
      "source": [
        "# Split Data"
      ],
      "metadata": {
        "id": "cu03jvzXfV7K"
      }
    },
    {
      "cell_type": "code",
      "source": [
        "x_train, x_test , y_train, y_test  = train_test_split(wind_speed, date, test_size=0.2)\n",
        "print(\"Total Data Train: \", len(x_train))\n",
        "print(\"Total Data Test: \", len(x_test))"
      ],
      "metadata": {
        "colab": {
          "base_uri": "https://localhost:8080/"
        },
        "id": "FeTjugEBftIi",
        "outputId": "81102f39-e24d-469c-c7f9-8b69704a3d95"
      },
      "execution_count": 11,
      "outputs": [
        {
          "output_type": "stream",
          "name": "stdout",
          "text": [
            "Total Data Train:  1169\n",
            "Total Data Test:  293\n"
          ]
        }
      ]
    },
    {
      "cell_type": "code",
      "source": [
        "def windowed_dataset(series, window_size, batch_size, shuffle_buffer):\n",
        "    series = tf.expand_dims(series, axis=-1)\n",
        "    ds = tf.data.Dataset.from_tensor_slices(series)\n",
        "    ds = ds.window(window_size + 1, shift=1, drop_remainder=True)\n",
        "    ds = ds.flat_map(lambda w: w.batch(window_size + 1))\n",
        "    ds = ds.shuffle(shuffle_buffer)\n",
        "    ds = ds.map(lambda w: (w[:-1], w[-1:]))\n",
        "    return ds.batch(batch_size).prefetch(1)"
      ],
      "metadata": {
        "id": "jvCpwKXShKWa"
      },
      "execution_count": 12,
      "outputs": []
    },
    {
      "cell_type": "code",
      "source": [
        "train_check = windowed_dataset(x_train, window_size=33, batch_size=50, shuffle_buffer=500)"
      ],
      "metadata": {
        "id": "jAGS_VCChOY8"
      },
      "execution_count": 13,
      "outputs": []
    },
    {
      "cell_type": "code",
      "source": [
        "val_check = windowed_dataset(x_test, window_size=33, batch_size=50, shuffle_buffer=500)\n"
      ],
      "metadata": {
        "id": "MIIykVdkiJNb"
      },
      "execution_count": 14,
      "outputs": []
    },
    {
      "cell_type": "code",
      "source": [
        "model = tf.keras.models.Sequential([\n",
        "  tf.keras.layers.Conv1D(filters=32, kernel_size=5,\n",
        "                      strides=1, padding=\"causal\",\n",
        "                      activation=\"relu\",\n",
        "                      input_shape=[None, 1]),\n",
        "  tf.keras.layers.LSTM(64, return_sequences=True),\n",
        "  tf.keras.layers.LSTM(64, return_sequences=True),\n",
        "  tf.keras.layers.Dense(30, activation=\"relu\"),\n",
        "  tf.keras.layers.Dense(10, activation=\"relu\"),\n",
        "  tf.keras.layers.Dense(1),\n",
        "  tf.keras.layers.Lambda(lambda x: x * 100)\n",
        "])"
      ],
      "metadata": {
        "id": "JhHculAbhuY4"
      },
      "execution_count": 15,
      "outputs": []
    },
    {
      "cell_type": "code",
      "source": [
        "Mae = (clim_train['wind_speed'].max() - clim_train['wind_speed'].min()) * 10/100\n",
        "print(Mae)"
      ],
      "metadata": {
        "colab": {
          "base_uri": "https://localhost:8080/"
        },
        "id": "vbjT3MGrq1br",
        "outputId": "119fa390-5528-4110-a0b4-aacbb2878f50"
      },
      "execution_count": 18,
      "outputs": [
        {
          "output_type": "stream",
          "name": "stdout",
          "text": [
            "4.2219999999999995\n"
          ]
        }
      ]
    },
    {
      "cell_type": "code",
      "source": [
        "class myCallback(tf.keras.callbacks.Callback):\n",
        "  def on_epoch_end(self, epoch, logs={}):\n",
        "    if(logs.get('mae')<1.79 and logs.get('val_mae')<1.79):\n",
        "      print(\"\\nMAE < 10% data scale\")\n",
        "      self.model.stop_training = True\n",
        "callbacks = myCallback()"
      ],
      "metadata": {
        "id": "Ege6qWItj9_G"
      },
      "execution_count": 19,
      "outputs": []
    },
    {
      "cell_type": "code",
      "source": [
        "lr_schedule = tf.keras.callbacks.LearningRateScheduler(\n",
        "    lambda epoch: 1e-8 * 10**(epoch / 20))"
      ],
      "metadata": {
        "id": "X7Rxf0RUi2hZ"
      },
      "execution_count": 20,
      "outputs": []
    },
    {
      "cell_type": "code",
      "source": [
        "optimizer = tf.keras.optimizers.SGD(learning_rate=1e-8, momentum=0.9)\n",
        "model.compile(loss=tf.keras.losses.Huber(),\n",
        "              optimizer=optimizer,\n",
        "              metrics=[\"mae\"])"
      ],
      "metadata": {
        "id": "vcX1i9-yi7fe"
      },
      "execution_count": 21,
      "outputs": []
    },
    {
      "cell_type": "code",
      "source": [
        "history_lstm = model.fit(train_check, epochs=100, validation_data = val_check, callbacks=[lr_schedule, callbacks])"
      ],
      "metadata": {
        "colab": {
          "base_uri": "https://localhost:8080/"
        },
        "id": "y8io9Q12oIYw",
        "outputId": "e47d8c05-480b-4aa0-ae15-941c2c13799e"
      },
      "execution_count": 25,
      "outputs": [
        {
          "output_type": "stream",
          "name": "stdout",
          "text": [
            "Epoch 1/100\n",
            "23/23 [==============================] - 12s 60ms/step - loss: 4.5132 - mae: 4.9892 - val_loss: 4.4751 - val_mae: 4.9507 - lr: 1.0000e-08\n",
            "Epoch 2/100\n",
            "23/23 [==============================] - 0s 15ms/step - loss: 4.4439 - mae: 4.9195 - val_loss: 4.3854 - val_mae: 4.8595 - lr: 1.1220e-08\n",
            "Epoch 3/100\n",
            "23/23 [==============================] - 0s 15ms/step - loss: 4.3618 - mae: 4.8371 - val_loss: 4.2871 - val_mae: 4.7595 - lr: 1.2589e-08\n",
            "Epoch 4/100\n",
            "23/23 [==============================] - 0s 15ms/step - loss: 4.2746 - mae: 4.7491 - val_loss: 4.1869 - val_mae: 4.6579 - lr: 1.4125e-08\n",
            "Epoch 5/100\n",
            "23/23 [==============================] - 0s 15ms/step - loss: 4.1855 - mae: 4.6595 - val_loss: 4.0835 - val_mae: 4.5535 - lr: 1.5849e-08\n",
            "Epoch 6/100\n",
            "23/23 [==============================] - 0s 18ms/step - loss: 4.0939 - mae: 4.5675 - val_loss: 3.9809 - val_mae: 4.4507 - lr: 1.7783e-08\n",
            "Epoch 7/100\n",
            "23/23 [==============================] - 0s 16ms/step - loss: 4.0033 - mae: 4.4764 - val_loss: 3.8760 - val_mae: 4.3461 - lr: 1.9953e-08\n",
            "Epoch 8/100\n",
            "23/23 [==============================] - 0s 15ms/step - loss: 3.9124 - mae: 4.3851 - val_loss: 3.7739 - val_mae: 4.2444 - lr: 2.2387e-08\n",
            "Epoch 9/100\n",
            "23/23 [==============================] - 0s 15ms/step - loss: 3.8235 - mae: 4.2965 - val_loss: 3.6743 - val_mae: 4.1444 - lr: 2.5119e-08\n",
            "Epoch 10/100\n",
            "23/23 [==============================] - 0s 15ms/step - loss: 3.7374 - mae: 4.2099 - val_loss: 3.5814 - val_mae: 4.0512 - lr: 2.8184e-08\n",
            "Epoch 11/100\n",
            "23/23 [==============================] - 0s 15ms/step - loss: 3.6574 - mae: 4.1298 - val_loss: 3.4918 - val_mae: 3.9606 - lr: 3.1623e-08\n",
            "Epoch 12/100\n",
            "23/23 [==============================] - 0s 15ms/step - loss: 3.5808 - mae: 4.0531 - val_loss: 3.4118 - val_mae: 3.8792 - lr: 3.5481e-08\n",
            "Epoch 13/100\n",
            "23/23 [==============================] - 0s 15ms/step - loss: 3.5105 - mae: 3.9828 - val_loss: 3.3415 - val_mae: 3.8084 - lr: 3.9811e-08\n",
            "Epoch 14/100\n",
            "23/23 [==============================] - 0s 17ms/step - loss: 3.4492 - mae: 3.9210 - val_loss: 3.2777 - val_mae: 3.7452 - lr: 4.4668e-08\n",
            "Epoch 15/100\n",
            "23/23 [==============================] - 0s 15ms/step - loss: 3.3941 - mae: 3.8648 - val_loss: 3.2254 - val_mae: 3.6941 - lr: 5.0119e-08\n",
            "Epoch 16/100\n",
            "23/23 [==============================] - 0s 15ms/step - loss: 3.3498 - mae: 3.8198 - val_loss: 3.1774 - val_mae: 3.6471 - lr: 5.6234e-08\n",
            "Epoch 17/100\n",
            "23/23 [==============================] - 0s 15ms/step - loss: 3.3099 - mae: 3.7792 - val_loss: 3.1416 - val_mae: 3.6120 - lr: 6.3096e-08\n",
            "Epoch 18/100\n",
            "23/23 [==============================] - 0s 15ms/step - loss: 3.2800 - mae: 3.7491 - val_loss: 3.1126 - val_mae: 3.5841 - lr: 7.0795e-08\n",
            "Epoch 19/100\n",
            "23/23 [==============================] - 0s 15ms/step - loss: 3.2566 - mae: 3.7255 - val_loss: 3.0887 - val_mae: 3.5613 - lr: 7.9433e-08\n",
            "Epoch 20/100\n",
            "23/23 [==============================] - 0s 15ms/step - loss: 3.2387 - mae: 3.7075 - val_loss: 3.0701 - val_mae: 3.5433 - lr: 8.9125e-08\n",
            "Epoch 21/100\n",
            "23/23 [==============================] - 0s 15ms/step - loss: 3.2251 - mae: 3.6939 - val_loss: 3.0562 - val_mae: 3.5299 - lr: 1.0000e-07\n",
            "Epoch 22/100\n",
            "23/23 [==============================] - 0s 15ms/step - loss: 3.2155 - mae: 3.6843 - val_loss: 3.0440 - val_mae: 3.5179 - lr: 1.1220e-07\n",
            "Epoch 23/100\n",
            "23/23 [==============================] - 0s 16ms/step - loss: 3.2071 - mae: 3.6759 - val_loss: 3.0350 - val_mae: 3.5090 - lr: 1.2589e-07\n",
            "Epoch 24/100\n",
            "23/23 [==============================] - 0s 16ms/step - loss: 3.2008 - mae: 3.6695 - val_loss: 3.0263 - val_mae: 3.5002 - lr: 1.4125e-07\n",
            "Epoch 25/100\n",
            "23/23 [==============================] - 0s 15ms/step - loss: 3.1939 - mae: 3.6625 - val_loss: 3.0184 - val_mae: 3.4923 - lr: 1.5849e-07\n",
            "Epoch 26/100\n",
            "23/23 [==============================] - 0s 15ms/step - loss: 3.1877 - mae: 3.6563 - val_loss: 3.0121 - val_mae: 3.4860 - lr: 1.7783e-07\n",
            "Epoch 27/100\n",
            "23/23 [==============================] - 0s 15ms/step - loss: 3.1801 - mae: 3.6487 - val_loss: 3.0031 - val_mae: 3.4769 - lr: 1.9953e-07\n",
            "Epoch 28/100\n",
            "23/23 [==============================] - 0s 15ms/step - loss: 3.1727 - mae: 3.6412 - val_loss: 2.9943 - val_mae: 3.4680 - lr: 2.2387e-07\n",
            "Epoch 29/100\n",
            "23/23 [==============================] - 0s 15ms/step - loss: 3.1651 - mae: 3.6335 - val_loss: 2.9856 - val_mae: 3.4592 - lr: 2.5119e-07\n",
            "Epoch 30/100\n",
            "23/23 [==============================] - 0s 15ms/step - loss: 3.1569 - mae: 3.6254 - val_loss: 2.9769 - val_mae: 3.4503 - lr: 2.8184e-07\n",
            "Epoch 31/100\n",
            "23/23 [==============================] - 0s 16ms/step - loss: 3.1481 - mae: 3.6166 - val_loss: 2.9676 - val_mae: 3.4409 - lr: 3.1623e-07\n",
            "Epoch 32/100\n",
            "23/23 [==============================] - 0s 15ms/step - loss: 3.1392 - mae: 3.6078 - val_loss: 2.9583 - val_mae: 3.4318 - lr: 3.5481e-07\n",
            "Epoch 33/100\n",
            "23/23 [==============================] - 0s 16ms/step - loss: 3.1317 - mae: 3.6002 - val_loss: 2.9483 - val_mae: 3.4218 - lr: 3.9811e-07\n",
            "Epoch 34/100\n",
            "23/23 [==============================] - 0s 15ms/step - loss: 3.1233 - mae: 3.5917 - val_loss: 2.9362 - val_mae: 3.4094 - lr: 4.4668e-07\n",
            "Epoch 35/100\n",
            "23/23 [==============================] - 0s 15ms/step - loss: 3.1134 - mae: 3.5819 - val_loss: 2.9320 - val_mae: 3.4054 - lr: 5.0119e-07\n",
            "Epoch 36/100\n",
            "23/23 [==============================] - 0s 15ms/step - loss: 3.1033 - mae: 3.5717 - val_loss: 2.9186 - val_mae: 3.3917 - lr: 5.6234e-07\n",
            "Epoch 37/100\n",
            "23/23 [==============================] - 0s 18ms/step - loss: 3.0962 - mae: 3.5646 - val_loss: 2.9117 - val_mae: 3.3850 - lr: 6.3096e-07\n",
            "Epoch 38/100\n",
            "23/23 [==============================] - 0s 16ms/step - loss: 3.0883 - mae: 3.5565 - val_loss: 2.8993 - val_mae: 3.3717 - lr: 7.0795e-07\n",
            "Epoch 39/100\n",
            "23/23 [==============================] - 0s 18ms/step - loss: 3.0813 - mae: 3.5498 - val_loss: 2.8978 - val_mae: 3.3715 - lr: 7.9433e-07\n",
            "Epoch 40/100\n",
            "23/23 [==============================] - 1s 19ms/step - loss: 3.0744 - mae: 3.5426 - val_loss: 2.8870 - val_mae: 3.3600 - lr: 8.9125e-07\n",
            "Epoch 41/100\n",
            "23/23 [==============================] - 0s 15ms/step - loss: 3.0691 - mae: 3.5376 - val_loss: 2.8826 - val_mae: 3.3558 - lr: 1.0000e-06\n",
            "Epoch 42/100\n",
            "23/23 [==============================] - 0s 15ms/step - loss: 3.0668 - mae: 3.5349 - val_loss: 2.8833 - val_mae: 3.3572 - lr: 1.1220e-06\n",
            "Epoch 43/100\n",
            "23/23 [==============================] - 0s 15ms/step - loss: 3.0658 - mae: 3.5343 - val_loss: 2.8716 - val_mae: 3.3447 - lr: 1.2589e-06\n",
            "Epoch 44/100\n",
            "23/23 [==============================] - 0s 15ms/step - loss: 3.0606 - mae: 3.5289 - val_loss: 2.8658 - val_mae: 3.3388 - lr: 1.4125e-06\n",
            "Epoch 45/100\n",
            "23/23 [==============================] - 0s 16ms/step - loss: 3.0524 - mae: 3.5209 - val_loss: 2.8639 - val_mae: 3.3374 - lr: 1.5849e-06\n",
            "Epoch 46/100\n",
            "23/23 [==============================] - 0s 16ms/step - loss: 3.0481 - mae: 3.5165 - val_loss: 2.8545 - val_mae: 3.3273 - lr: 1.7783e-06\n",
            "Epoch 47/100\n",
            "23/23 [==============================] - 0s 15ms/step - loss: 3.0456 - mae: 3.5139 - val_loss: 2.8584 - val_mae: 3.3321 - lr: 1.9953e-06\n",
            "Epoch 48/100\n",
            "23/23 [==============================] - 0s 15ms/step - loss: 3.0400 - mae: 3.5079 - val_loss: 2.8436 - val_mae: 3.3158 - lr: 2.2387e-06\n",
            "Epoch 49/100\n",
            "23/23 [==============================] - 0s 15ms/step - loss: 3.0415 - mae: 3.5097 - val_loss: 2.8404 - val_mae: 3.3128 - lr: 2.5119e-06\n",
            "Epoch 50/100\n",
            "23/23 [==============================] - 0s 15ms/step - loss: 3.0345 - mae: 3.5022 - val_loss: 2.8450 - val_mae: 3.3185 - lr: 2.8184e-06\n",
            "Epoch 51/100\n",
            "23/23 [==============================] - 0s 15ms/step - loss: 3.0458 - mae: 3.5143 - val_loss: 2.8339 - val_mae: 3.3075 - lr: 3.1623e-06\n",
            "Epoch 52/100\n",
            "23/23 [==============================] - 0s 15ms/step - loss: 3.0283 - mae: 3.4958 - val_loss: 2.8520 - val_mae: 3.3238 - lr: 3.5481e-06\n",
            "Epoch 53/100\n",
            "23/23 [==============================] - 0s 15ms/step - loss: 3.0194 - mae: 3.4868 - val_loss: 2.8250 - val_mae: 3.2972 - lr: 3.9811e-06\n",
            "Epoch 54/100\n",
            "23/23 [==============================] - 0s 16ms/step - loss: 3.0330 - mae: 3.5007 - val_loss: 2.8273 - val_mae: 3.3010 - lr: 4.4668e-06\n",
            "Epoch 55/100\n",
            "23/23 [==============================] - 0s 15ms/step - loss: 3.0187 - mae: 3.4865 - val_loss: 2.8216 - val_mae: 3.2958 - lr: 5.0119e-06\n",
            "Epoch 56/100\n",
            "23/23 [==============================] - 0s 15ms/step - loss: 3.0190 - mae: 3.4863 - val_loss: 2.8169 - val_mae: 3.2911 - lr: 5.6234e-06\n",
            "Epoch 57/100\n",
            "23/23 [==============================] - 0s 15ms/step - loss: 3.0482 - mae: 3.5159 - val_loss: 2.8739 - val_mae: 3.3419 - lr: 6.3096e-06\n",
            "Epoch 58/100\n",
            "23/23 [==============================] - 0s 16ms/step - loss: 3.0952 - mae: 3.5647 - val_loss: 2.8094 - val_mae: 3.2834 - lr: 7.0795e-06\n",
            "Epoch 59/100\n",
            "23/23 [==============================] - 0s 17ms/step - loss: 3.0287 - mae: 3.4954 - val_loss: 2.8103 - val_mae: 3.2824 - lr: 7.9433e-06\n",
            "Epoch 60/100\n",
            "23/23 [==============================] - 0s 15ms/step - loss: 3.0126 - mae: 3.4799 - val_loss: 2.8235 - val_mae: 3.2971 - lr: 8.9125e-06\n",
            "Epoch 61/100\n",
            "23/23 [==============================] - 0s 15ms/step - loss: 3.0143 - mae: 3.4826 - val_loss: 2.8071 - val_mae: 3.2816 - lr: 1.0000e-05\n",
            "Epoch 62/100\n",
            "23/23 [==============================] - 0s 15ms/step - loss: 3.0242 - mae: 3.4907 - val_loss: 2.8078 - val_mae: 3.2825 - lr: 1.1220e-05\n",
            "Epoch 63/100\n",
            "23/23 [==============================] - 0s 16ms/step - loss: 3.0222 - mae: 3.4897 - val_loss: 2.8064 - val_mae: 3.2809 - lr: 1.2589e-05\n",
            "Epoch 64/100\n",
            "23/23 [==============================] - 0s 16ms/step - loss: 3.0213 - mae: 3.4881 - val_loss: 2.8660 - val_mae: 3.3345 - lr: 1.4125e-05\n",
            "Epoch 65/100\n",
            "23/23 [==============================] - 0s 16ms/step - loss: 3.0251 - mae: 3.4930 - val_loss: 2.8469 - val_mae: 3.3184 - lr: 1.5849e-05\n",
            "Epoch 66/100\n",
            "23/23 [==============================] - 0s 16ms/step - loss: 3.0222 - mae: 3.4912 - val_loss: 2.8877 - val_mae: 3.3537 - lr: 1.7783e-05\n",
            "Epoch 67/100\n",
            "23/23 [==============================] - 0s 16ms/step - loss: 3.0739 - mae: 3.5450 - val_loss: 2.8306 - val_mae: 3.3043 - lr: 1.9953e-05\n",
            "Epoch 68/100\n",
            "23/23 [==============================] - 0s 15ms/step - loss: 3.0774 - mae: 3.5444 - val_loss: 2.9023 - val_mae: 3.3666 - lr: 2.2387e-05\n",
            "Epoch 69/100\n",
            "23/23 [==============================] - 0s 16ms/step - loss: 3.0969 - mae: 3.5666 - val_loss: 2.8198 - val_mae: 3.2946 - lr: 2.5119e-05\n",
            "Epoch 70/100\n",
            "23/23 [==============================] - 0s 17ms/step - loss: 3.0227 - mae: 3.4888 - val_loss: 2.8043 - val_mae: 3.2787 - lr: 2.8184e-05\n",
            "Epoch 71/100\n",
            "23/23 [==============================] - 0s 15ms/step - loss: 3.0157 - mae: 3.4827 - val_loss: 2.8190 - val_mae: 3.2943 - lr: 3.1623e-05\n",
            "Epoch 72/100\n",
            "23/23 [==============================] - 0s 15ms/step - loss: 3.0531 - mae: 3.5209 - val_loss: 2.8149 - val_mae: 3.2840 - lr: 3.5481e-05\n",
            "Epoch 73/100\n",
            "23/23 [==============================] - 0s 15ms/step - loss: 3.0417 - mae: 3.5105 - val_loss: 2.9481 - val_mae: 3.4111 - lr: 3.9811e-05\n",
            "Epoch 74/100\n",
            "23/23 [==============================] - 0s 16ms/step - loss: 3.0365 - mae: 3.5040 - val_loss: 2.8097 - val_mae: 3.2857 - lr: 4.4668e-05\n",
            "Epoch 75/100\n",
            "23/23 [==============================] - 0s 15ms/step - loss: 3.0397 - mae: 3.5076 - val_loss: 2.8045 - val_mae: 3.2774 - lr: 5.0119e-05\n",
            "Epoch 76/100\n",
            "23/23 [==============================] - 0s 16ms/step - loss: 3.0885 - mae: 3.5564 - val_loss: 2.8455 - val_mae: 3.3166 - lr: 5.6234e-05\n",
            "Epoch 77/100\n",
            "23/23 [==============================] - 0s 16ms/step - loss: 3.1535 - mae: 3.6263 - val_loss: 2.8113 - val_mae: 3.2860 - lr: 6.3096e-05\n",
            "Epoch 78/100\n",
            "23/23 [==============================] - 0s 16ms/step - loss: 3.0937 - mae: 3.5601 - val_loss: 2.9652 - val_mae: 3.4366 - lr: 7.0795e-05\n",
            "Epoch 79/100\n",
            "23/23 [==============================] - 0s 16ms/step - loss: 3.1264 - mae: 3.5984 - val_loss: 2.8542 - val_mae: 3.3221 - lr: 7.9433e-05\n",
            "Epoch 80/100\n",
            "23/23 [==============================] - 0s 16ms/step - loss: 3.1017 - mae: 3.5707 - val_loss: 2.8045 - val_mae: 3.2754 - lr: 8.9125e-05\n",
            "Epoch 81/100\n",
            "23/23 [==============================] - 0s 15ms/step - loss: 3.6194 - mae: 4.0940 - val_loss: 2.9142 - val_mae: 3.3818 - lr: 1.0000e-04\n",
            "Epoch 82/100\n",
            "23/23 [==============================] - 0s 19ms/step - loss: 3.2670 - mae: 3.7378 - val_loss: 2.7891 - val_mae: 3.2575 - lr: 1.1220e-04\n",
            "Epoch 83/100\n",
            "23/23 [==============================] - 0s 15ms/step - loss: 3.2939 - mae: 3.7660 - val_loss: 2.9470 - val_mae: 3.4100 - lr: 1.2589e-04\n",
            "Epoch 84/100\n",
            "23/23 [==============================] - 0s 16ms/step - loss: 3.2247 - mae: 3.6933 - val_loss: 2.8502 - val_mae: 3.3180 - lr: 1.4125e-04\n",
            "Epoch 85/100\n",
            "23/23 [==============================] - 0s 16ms/step - loss: 3.1786 - mae: 3.6503 - val_loss: 2.8457 - val_mae: 3.3130 - lr: 1.5849e-04\n",
            "Epoch 86/100\n",
            "23/23 [==============================] - 0s 15ms/step - loss: 3.3302 - mae: 3.8038 - val_loss: 2.7973 - val_mae: 3.2667 - lr: 1.7783e-04\n",
            "Epoch 87/100\n",
            "23/23 [==============================] - 0s 15ms/step - loss: 3.0603 - mae: 3.5283 - val_loss: 3.2898 - val_mae: 3.7571 - lr: 1.9953e-04\n",
            "Epoch 88/100\n",
            "23/23 [==============================] - 0s 16ms/step - loss: 3.0711 - mae: 3.5411 - val_loss: 3.0768 - val_mae: 3.5419 - lr: 2.2387e-04\n",
            "Epoch 89/100\n",
            "23/23 [==============================] - 0s 16ms/step - loss: 3.1494 - mae: 3.6207 - val_loss: 2.8294 - val_mae: 3.2994 - lr: 2.5119e-04\n",
            "Epoch 90/100\n",
            "23/23 [==============================] - 0s 16ms/step - loss: 3.2243 - mae: 3.6981 - val_loss: 2.8477 - val_mae: 3.3222 - lr: 2.8184e-04\n",
            "Epoch 91/100\n",
            "23/23 [==============================] - 0s 15ms/step - loss: 3.1243 - mae: 3.5949 - val_loss: 2.7894 - val_mae: 3.2577 - lr: 3.1623e-04\n",
            "Epoch 92/100\n",
            "23/23 [==============================] - 0s 16ms/step - loss: 3.3577 - mae: 3.8272 - val_loss: 2.7863 - val_mae: 3.2586 - lr: 3.5481e-04\n",
            "Epoch 93/100\n",
            "23/23 [==============================] - 0s 15ms/step - loss: 3.3607 - mae: 3.8331 - val_loss: 2.8661 - val_mae: 3.3355 - lr: 3.9811e-04\n",
            "Epoch 94/100\n",
            "23/23 [==============================] - 0s 14ms/step - loss: 3.3100 - mae: 3.7857 - val_loss: 2.7897 - val_mae: 3.2572 - lr: 4.4668e-04\n",
            "Epoch 95/100\n",
            "23/23 [==============================] - 0s 16ms/step - loss: 3.5216 - mae: 3.9951 - val_loss: 2.8845 - val_mae: 3.3473 - lr: 5.0119e-04\n",
            "Epoch 96/100\n",
            "23/23 [==============================] - 0s 15ms/step - loss: 3.0318 - mae: 3.4999 - val_loss: 2.8124 - val_mae: 3.2857 - lr: 5.6234e-04\n",
            "Epoch 97/100\n",
            "23/23 [==============================] - 0s 15ms/step - loss: 3.3227 - mae: 3.7941 - val_loss: 3.0595 - val_mae: 3.5257 - lr: 6.3096e-04\n",
            "Epoch 98/100\n",
            "23/23 [==============================] - 0s 15ms/step - loss: 3.1910 - mae: 3.6595 - val_loss: 2.7839 - val_mae: 3.2566 - lr: 7.0795e-04\n",
            "Epoch 99/100\n",
            "23/23 [==============================] - 0s 16ms/step - loss: 3.1255 - mae: 3.5955 - val_loss: 3.1157 - val_mae: 3.5831 - lr: 7.9433e-04\n",
            "Epoch 100/100\n",
            "23/23 [==============================] - 0s 15ms/step - loss: 3.1247 - mae: 3.5942 - val_loss: 2.9053 - val_mae: 3.3641 - lr: 8.9125e-04\n"
          ]
        }
      ]
    },
    {
      "cell_type": "code",
      "source": [
        "# Plot Accuracy\n",
        "plt.plot(history_lstm.history['mae'])\n",
        "plt.plot(history_lstm.history['val_mae'])\n",
        "plt.title('Accuracy Model')\n",
        "plt.ylabel('Mae')\n",
        "plt.xlabel('epoch')\n",
        "plt.legend(['Train', 'Validation'], loc='upper left')\n",
        "plt.show()\n",
        "\n",
        "# Plot Loss\n",
        "plt.plot(history_lstm.history['loss'])\n",
        "plt.plot(history_lstm.history['val_loss'])\n",
        "plt.title('Loss Model')\n",
        "plt.ylabel('loss')\n",
        "plt.xlabel('epoch')\n",
        "plt.legend(['Train', 'Validation'], loc='upper left')\n",
        "plt.show()"
      ],
      "metadata": {
        "colab": {
          "base_uri": "https://localhost:8080/",
          "height": 573
        },
        "id": "ur1MY371s1V4",
        "outputId": "23caec9d-93c3-498d-e772-40b9f66540af"
      },
      "execution_count": 26,
      "outputs": [
        {
          "output_type": "display_data",
          "data": {
            "text/plain": [
              "<Figure size 432x288 with 1 Axes>"
            ],
            "image/png": "[encoded data removed]"
          },
          "metadata": {
            "needs_background": "light"
          }
        },
        {
          "output_type": "display_data",
          "data": {
            "text/plain": [
              "<Figure size 432x288 with 1 Axes>"
            ],
            "image/png": "[encoded data removed]"
          },
          "metadata": {
            "needs_background": "light"
          }
        }
      ]
    }
  ]
}